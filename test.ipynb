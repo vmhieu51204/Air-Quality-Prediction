{
 "cells": [
  {
   "cell_type": "code",
   "execution_count": 79,
   "id": "0af866e9",
   "metadata": {},
   "outputs": [],
   "source": [
    "import pandas as pd\n",
    "import numpy as np\n",
    "import random\n",
    "from joblib import dump, load\n",
    "from utils.utils import sliding_window\n",
    "from sklearn.metrics import make_scorer\n",
    "from sklearn.ensemble import RandomForestRegressor\n",
    "from sklearn.preprocessing import StandardScaler\n",
    "from sklearn.pipeline import Pipeline\n",
    "from sklearn.compose import TransformedTargetRegressor\n",
    "from sklearn.model_selection import GridSearchCV\n",
    "from sklearn.metrics import root_mean_squared_error, mean_absolute_error"
   ]
  },
  {
   "cell_type": "code",
   "execution_count": 80,
   "id": "ac32879c",
   "metadata": {},
   "outputs": [],
   "source": [
    "air_df = pd.read_csv(\"data/air_data.csv\")\n",
    "weather_df = pd.read_csv(\"data/weather_data.csv\")    "
   ]
  },
  {
   "cell_type": "code",
   "execution_count": 81,
   "id": "98c2362a",
   "metadata": {},
   "outputs": [],
   "source": [
    "air_df = air_df.loc[(air_df.iloc[:, 1:] >= 0).all(axis=1)]\n",
    "air_df.drop(\"aqi\", axis=1, inplace=True)\n",
    "#air_df.reset_index(drop=True, inplace=True)\n",
    "air_df = air_df.reset_index(drop=True).sort_values(by=['time'])\n",
    "\n",
    "weather_df.dropna(axis=0, inplace=True)\n",
    "#weather_df.reset_index(drop=True, inplace=True)\n",
    "weather_df = weather_df.reset_index(drop=True).sort_values(by=['time'])  \n",
    "\n",
    "# making sliding windows\n",
    "X, y = sliding_window(weather_df, air_df, target_size=\"same\")\n",
    "m = X.shape[0]\n",
    "X = X.reshape((m, -1))\n",
    "y = y[:,-1]"
   ]
  },
  {
   "cell_type": "code",
   "execution_count": 82,
   "id": "61c788aa",
   "metadata": {},
   "outputs": [],
   "source": [
    "random.seed(42)\n",
    "idx = list(range(len(X)))\n",
    "random.shuffle(idx)\n",
    "\n",
    "train_ratio = 0.8  # 80% train, 20% test\n",
    "split_point = int(train_ratio * len(X))\n",
    "\n",
    "train_idx = idx[:split_point]\n",
    "test_idx = idx[split_point:]\n",
    "\n",
    "X_train, X_test = X[train_idx], X[test_idx]\n",
    "y_train, y_test = y[train_idx], y[test_idx]"
   ]
  },
  {
   "cell_type": "code",
   "execution_count": 83,
   "id": "f3495282",
   "metadata": {},
   "outputs": [
    {
     "name": "stdout",
     "output_type": "stream",
     "text": [
      "Custom RMSE score: -0.4759632787048874\n"
     ]
    }
   ],
   "source": [
    "pipeline = Pipeline([\n",
    "    ('scaler', StandardScaler()),\n",
    "    ('forest', RandomForestRegressor(n_estimators=30, max_depth=60, min_samples_split=2, min_samples_leaf=2, n_jobs=-1))    \n",
    "])\n",
    "\n",
    "model = TransformedTargetRegressor(\n",
    "    regressor=pipeline,\n",
    "    transformer=StandardScaler()\n",
    ")\n",
    "\n",
    "def custom_scorer(y_true, y_pred):\n",
    "    scaler = StandardScaler()\n",
    "    scaled_y_true = scaler.fit_transform(y_true)\n",
    "    return -root_mean_squared_error(\n",
    "        scaled_y_true,\n",
    "        scaler.transform(y_pred),\n",
    "        multioutput=\"uniform_average\"\n",
    "    )\n",
    "\n",
    "model.fit(X_train, y_train)\n",
    "y_pred = model.predict(X_test)\n",
    "score = custom_scorer(y_test.reshape(-1, 1), y_pred.reshape(-1, 1))\n",
    "print(\"Custom RMSE score:\", score)"
   ]
  },
  {
   "cell_type": "code",
   "execution_count": 85,
   "id": "8118a8b6",
   "metadata": {},
   "outputs": [
    {
     "data": {
      "text/plain": [
       "co       1087.405532\n",
       "no2        16.536725\n",
       "o3         25.473569\n",
       "so2        14.957574\n",
       "pm2_5      62.968041\n",
       "pm10       69.606491\n",
       "dtype: float64"
      ]
     },
     "execution_count": 85,
     "metadata": {},
     "output_type": "execute_result"
    }
   ],
   "source": [
    "pd.Series(root_mean_squared_error(model.predict(X_test), y_test, multioutput=\"raw_values\"), \n",
    "          index=[\"co\", \"no2\", \"o3\", \"so2\", \"pm2_5\", \"pm10\"])"
   ]
  }
 ],
 "metadata": {
  "kernelspec": {
   "display_name": "base",
   "language": "python",
   "name": "python3"
  },
  "language_info": {
   "codemirror_mode": {
    "name": "ipython",
    "version": 3
   },
   "file_extension": ".py",
   "mimetype": "text/x-python",
   "name": "python",
   "nbconvert_exporter": "python",
   "pygments_lexer": "ipython3",
   "version": "3.12.9"
  }
 },
 "nbformat": 4,
 "nbformat_minor": 5
}
